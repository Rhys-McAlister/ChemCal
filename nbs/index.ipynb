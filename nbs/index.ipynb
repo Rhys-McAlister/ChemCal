{
 "cells": [
  {
   "cell_type": "code",
   "execution_count": 2,
   "metadata": {},
   "outputs": [],
   "source": [
    "#| hide\n",
    "from ChemCal.core import *\n",
    "import pandas as pd"
   ]
  },
  {
   "attachments": {},
   "cell_type": "markdown",
   "metadata": {},
   "source": [
    "# ChemCal\n",
    "\n",
    "> A collection of functions that simplify the process of creating calibration curves."
   ]
  },
  {
   "attachments": {},
   "cell_type": "markdown",
   "metadata": {},
   "source": [
    "This file will become your README and also the index of your documentation."
   ]
  },
  {
   "attachments": {},
   "cell_type": "markdown",
   "metadata": {},
   "source": [
    "## Install"
   ]
  },
  {
   "attachments": {},
   "cell_type": "markdown",
   "metadata": {},
   "source": [
    "```sh\n",
    "pip install ChemCal\n",
    "```"
   ]
  },
  {
   "attachments": {},
   "cell_type": "markdown",
   "metadata": {},
   "source": [
    "## How to use"
   ]
  },
  {
   "attachments": {},
   "cell_type": "markdown",
   "metadata": {},
   "source": [
    "First we generate some data to work with."
   ]
  },
  {
   "cell_type": "code",
   "execution_count": 3,
   "metadata": {},
   "outputs": [],
   "source": [
    "# generate training data and sample data\n",
    "test_data = pd.DataFrame({'concentration': [0.2, 0.05, 0.1, 0.8, 0.6, 0.4], \"abs\": [0.221, 0.057, 0.119, 0.73, 0.599, 0.383]})\n",
    "sample_data = pd.DataFrame({'unknown': [0.490, 0.471, 0.484, 0.473, 0.479, 0.492]})\n",
    "     "
   ]
  },
  {
   "attachments": {},
   "cell_type": "markdown",
   "metadata": {},
   "source": [
    "Now, we create a CalibrationModel object and pass the predictor and response variables from our dataset as the x and y values respectively. Additionally we specific the amount of replicates for our unknown."
   ]
  },
  {
   "cell_type": "code",
   "execution_count": 4,
   "metadata": {},
   "outputs": [],
   "source": [
    "cal = CalibrationModel(x=test_data['concentration'], y=test_data['abs'], test_replicates=6)\n",
    "     \n"
   ]
  },
  {
   "attachments": {},
   "cell_type": "markdown",
   "metadata": {},
   "source": [
    "When we call .fit_ols(), a least squares regression is fit to the data and the slope, intercept and \n",
    " values are stored in the object and can be retrieved by calling object.slope, object.intercept and object.r_squared respectively."
   ]
  },
  {
   "cell_type": "code",
   "execution_count": 5,
   "metadata": {},
   "outputs": [
    {
     "ename": "NameError",
     "evalue": "name 'sp' is not defined",
     "output_type": "error",
     "traceback": [
      "\u001b[0;31m---------------------------------------------------------------------------\u001b[0m",
      "\u001b[0;31mNameError\u001b[0m                                 Traceback (most recent call last)",
      "Cell \u001b[0;32mIn[5], line 1\u001b[0m\n\u001b[0;32m----> 1\u001b[0m cal\u001b[39m.\u001b[39mfit_ols()\n\u001b[1;32m      3\u001b[0m \u001b[39mprint\u001b[39m(\u001b[39mf\u001b[39m\u001b[39m\"\u001b[39m\u001b[39mSlope: \u001b[39m\u001b[39m{\u001b[39;00mcal\u001b[39m.\u001b[39mslope\u001b[39m:\u001b[39;00m\u001b[39m .3f\u001b[39m\u001b[39m}\u001b[39;00m\u001b[39m\"\u001b[39m )\n\u001b[1;32m      4\u001b[0m \u001b[39mprint\u001b[39m(\u001b[39mf\u001b[39m\u001b[39m\"\u001b[39m\u001b[39mIntercept: \u001b[39m\u001b[39m{\u001b[39;00mcal\u001b[39m.\u001b[39mintercept\u001b[39m:\u001b[39;00m\u001b[39m .3f\u001b[39m\u001b[39m}\u001b[39;00m\u001b[39m\"\u001b[39m )\n",
      "File \u001b[0;32m~/projects/ChemCal/ChemCal/core.py:26\u001b[0m, in \u001b[0;36mCalibrationModel.fit_ols\u001b[0;34m(self)\u001b[0m\n\u001b[1;32m     24\u001b[0m \u001b[39mdef\u001b[39;00m \u001b[39mfit_ols\u001b[39m(\u001b[39mself\u001b[39m):\n\u001b[0;32m---> 26\u001b[0m     \u001b[39mself\u001b[39m\u001b[39m.\u001b[39mslope, \u001b[39mself\u001b[39m\u001b[39m.\u001b[39mintercept, \u001b[39mself\u001b[39m\u001b[39m.\u001b[39mr_squared, \u001b[39mself\u001b[39m\u001b[39m.\u001b[39mstd_err, _ \u001b[39m=\u001b[39m sp\u001b[39m.\u001b[39mstats\u001b[39m.\u001b[39mlinregress(\u001b[39mself\u001b[39m\u001b[39m.\u001b[39mx, \u001b[39mself\u001b[39m\u001b[39m.\u001b[39my)\n",
      "\u001b[0;31mNameError\u001b[0m: name 'sp' is not defined"
     ]
    }
   ],
   "source": [
    "cal.fit_ols()\n",
    "\n",
    "print(f\"Slope: {cal.slope: .3f}\" )\n",
    "print(f\"Intercept: {cal.intercept: .3f}\" )\n",
    "print(f\"R2: {cal.r_squared: .3f}\" )"
   ]
  },
  {
   "attachments": {},
   "cell_type": "markdown",
   "metadata": {},
   "source": [
    "Finally, we can calculate an inverse prediction from unknown data and retrieve the uncertainty but calling .inverse_prediction() and .calculate_uncertainty() respectively.\n",
    "\n",
    "The uncertainty is calculated according to the following expression:\n",
    "\n",
    "$$ U = {S_{\\\\hat{x}}}_0 * T $$\n",
    "\n",
    "Where:\n",
    "\n",
    "$${S_{\\hat{x}}}_0 = \\frac{S_{y/x}}{b} \\sqrt{\\frac{1}{m} + \\frac{1}{n}} $$"
   ]
  },
  {
   "cell_type": "code",
   "execution_count": null,
   "metadata": {},
   "outputs": [],
   "source": [
    "pred = cal.inverse_prediction(sample_data['unknown'])\n",
    "print(f\"Predicted concentration: {pred: .3f} +- {cal.calculate_uncertainty(): .3f}\")"
   ]
  }
 ],
 "metadata": {
  "kernelspec": {
   "display_name": "python3",
   "language": "python",
   "name": "python3"
  },
  "language_info": {
   "codemirror_mode": {
    "name": "ipython",
    "version": 3
   },
   "file_extension": ".py",
   "mimetype": "text/x-python",
   "name": "python",
   "nbconvert_exporter": "python",
   "pygments_lexer": "ipython3",
   "version": "3.11.3"
  }
 },
 "nbformat": 4,
 "nbformat_minor": 4
}
