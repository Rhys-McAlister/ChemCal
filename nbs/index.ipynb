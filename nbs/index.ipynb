{
 "cells": [
  {
   "cell_type": "code",
   "execution_count": null,
   "metadata": {},
   "outputs": [],
   "source": [
    "#| hide\n",
    "from ChemCal.core import *\n",
    "import pandas as pd"
   ]
  },
  {
   "attachments": {},
   "cell_type": "markdown",
   "metadata": {},
   "source": [
    "# ChemCal\n",
    "\n",
    "> A collection of functions that simplify the process of creating calibration curves."
   ]
  },
  {
   "attachments": {},
   "cell_type": "markdown",
   "metadata": {},
   "source": [
    "## Install"
   ]
  },
  {
   "attachments": {},
   "cell_type": "markdown",
   "metadata": {},
   "source": [
    "```sh\n",
    "pip install ChemCal\n",
    "```"
   ]
  },
  {
   "attachments": {},
   "cell_type": "markdown",
   "metadata": {},
   "source": [
    "## How to use"
   ]
  },
  {
   "attachments": {},
   "cell_type": "markdown",
   "metadata": {},
   "source": [
    "First we generate some data to work with."
   ]
  },
  {
   "cell_type": "code",
   "execution_count": null,
   "metadata": {},
   "outputs": [],
   "source": [
    "# generate training data and sample data\n",
    "test_data = pd.DataFrame({'concentration': [0.2, 0.05, 0.1, 0.8, 0.6, 0.4], \"abs\": [0.221, 0.057, 0.119, 0.73, 0.599, 0.383]})\n",
    "sample_data = pd.DataFrame({'unknown': [0.490, 0.471, 0.484, 0.473, 0.479, 0.492]})\n",
    "     "
   ]
  },
  {
   "attachments": {},
   "cell_type": "markdown",
   "metadata": {},
   "source": [
    "Now, create a CalibrationModel object and pass the predictor and response variables from our dataset as the x and y values respectively."
   ]
  },
  {
   "cell_type": "code",
   "execution_count": null,
   "metadata": {},
   "outputs": [],
   "source": [
    "cal = CalibrationModel(x=test_data['concentration'], y=test_data['abs'])"
   ]
  },
  {
   "attachments": {},
   "cell_type": "markdown",
   "metadata": {},
   "source": [
    "When we call .fit_ols(), an ordinary least squares regression is fit to the data and the slope, intercept and \n",
    "values are stored in the object and can be retrieved by calling `.slope`, `.intercept` and `.r_squared` respectively."
   ]
  },
  {
   "cell_type": "code",
   "execution_count": null,
   "metadata": {},
   "outputs": [
    {
     "name": "stdout",
     "output_type": "stream",
     "text": [
      "Slope:  0.904\n",
      "Intercept:  0.027\n",
      "R2:  0.998\n"
     ]
    }
   ],
   "source": [
    "cal.fit_ols()\n",
    "\n",
    "print(f\"Slope: {cal.slope: .3f}\" )\n",
    "print(f\"Intercept: {cal.intercept: .3f}\" )\n",
    "print(f\"R2: {cal.r_squared: .3f}\" )"
   ]
  },
  {
   "attachments": {},
   "cell_type": "markdown",
   "metadata": {},
   "source": [
    "We can also call the method `.linest_stats()` to return a series of statistics you might expect when using the linest function in excel or sheets."
   ]
  },
  {
   "cell_type": "code",
   "execution_count": null,
   "metadata": {},
   "outputs": [
    {
     "data": {
      "text/html": [
       "<div>\n",
       "<style scoped>\n",
       "    .dataframe tbody tr th:only-of-type {\n",
       "        vertical-align: middle;\n",
       "    }\n",
       "\n",
       "    .dataframe tbody tr th {\n",
       "        vertical-align: top;\n",
       "    }\n",
       "\n",
       "    .dataframe thead th {\n",
       "        text-align: right;\n",
       "    }\n",
       "</style>\n",
       "<table border=\"1\" class=\"dataframe\">\n",
       "  <thead>\n",
       "    <tr style=\"text-align: right;\">\n",
       "      <th></th>\n",
       "      <th>Slope</th>\n",
       "      <th>Intercept</th>\n",
       "      <th>Uncertainty in slope</th>\n",
       "      <th>Uncertainty in intercept</th>\n",
       "      <th>Standard error of regression</th>\n",
       "      <th>F-statistic</th>\n",
       "      <th>Degrees of freedom</th>\n",
       "      <th>Regression sum of squares</th>\n",
       "      <th>Residual sum of squares</th>\n",
       "    </tr>\n",
       "  </thead>\n",
       "  <tbody>\n",
       "    <tr>\n",
       "      <th>0</th>\n",
       "      <td>0.904411</td>\n",
       "      <td>0.027419</td>\n",
       "      <td>0.0312</td>\n",
       "      <td>0.017178</td>\n",
       "      <td>0.020745</td>\n",
       "      <td>840.261133</td>\n",
       "      <td>4</td>\n",
       "      <td>0.361606</td>\n",
       "      <td>0.001721</td>\n",
       "    </tr>\n",
       "  </tbody>\n",
       "</table>\n",
       "</div>"
      ],
      "text/plain": [
       "      Slope  Intercept  Uncertainty in slope  Uncertainty in intercept  \\\n",
       "0  0.904411   0.027419                0.0312                  0.017178   \n",
       "\n",
       "   Standard error of regression  F-statistic  Degrees of freedom  \\\n",
       "0                      0.020745   840.261133                   4   \n",
       "\n",
       "   Regression sum of squares  Residual sum of squares  \n",
       "0                   0.361606                 0.001721  "
      ]
     },
     "execution_count": null,
     "metadata": {},
     "output_type": "execute_result"
    }
   ],
   "source": [
    "cal.linest_stats()"
   ]
  },
  {
   "attachments": {},
   "cell_type": "markdown",
   "metadata": {},
   "source": [
    "Finally, we can calculate an inverse prediction from unknown data and retrieve the uncertainty but calling .inverse_prediction().\n",
    "\n"
   ]
  },
  {
   "cell_type": "code",
   "execution_count": null,
   "metadata": {},
   "outputs": [
    {
     "name": "stdout",
     "output_type": "stream",
     "text": [
      "0.5020733029033536 ± 0.031053583676141718\n"
     ]
    }
   ],
   "source": [
    "pred = cal.inverse_prediction(sample_data['unknown'])\n",
    "print(pred)"
   ]
  },
  {
   "attachments": {},
   "cell_type": "markdown",
   "metadata": {},
   "source": [
    "The uncertainty is calculated according to the following expression:\n",
    "\n",
    "$$ U = {S_{\\\\hat{x}}}_0 * T $$\n",
    "\n",
    "Where if a single sample is provided:\n",
    "\n",
    "$$ {S_{\\hat{x}}}_0 = \\frac{S_{y/x}}{b} \\sqrt{\\frac{1}{m} + \\frac{1}{n}} $$ \n",
    "\n",
    "Or, if multiple replicate samples are provided:\n",
    "\n",
    "$$ s_{\\hat{x}_0}=\\frac{1}{b} \\sqrt{\\frac{s_r^2}{m}+\\frac{s_{y / x}^2}{n}+\\frac{s_{y / x}^2\\left(y_0-\\bar{y}\\right)^2}{b^2 \\sum_{i=1}^n\\left(x_i-\\bar{x}\\right)^2}} $$"
   ]
  }
 ],
 "metadata": {
  "kernelspec": {
   "display_name": "python3",
   "language": "python",
   "name": "python3"
  }
 },
 "nbformat": 4,
 "nbformat_minor": 4
}
