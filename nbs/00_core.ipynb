{
 "cells": [
  {
   "attachments": {},
   "cell_type": "markdown",
   "metadata": {},
   "source": [
    "# core\n",
    "\n",
    "> Fill in a module description here"
   ]
  },
  {
   "cell_type": "code",
   "execution_count": 51,
   "metadata": {},
   "outputs": [],
   "source": [
    "#| default_exp core"
   ]
  },
  {
   "cell_type": "code",
   "execution_count": 52,
   "metadata": {},
   "outputs": [],
   "source": [
    "#| hide\n",
    "from nbdev.showdoc import *\n",
    "from fastcore.test import *"
   ]
  },
  {
   "cell_type": "code",
   "execution_count": 53,
   "metadata": {},
   "outputs": [],
   "source": [
    "#| export\n",
    "import pandas as pd\n",
    "import scipy as sp\n",
    "import matplotlib.pyplot as plt\n",
    "import numpy as np\n",
    "import seaborn as sns\n",
    "from dataclasses import dataclass\n",
    "import typing"
   ]
  },
  {
   "cell_type": "code",
   "execution_count": 54,
   "metadata": {},
   "outputs": [],
   "source": [
    "#| hide\n",
    "sns.set_style(\"white\")\n",
    "sns.set_style(\"ticks\")"
   ]
  },
  {
   "attachments": {},
   "cell_type": "markdown",
   "metadata": {},
   "source": [
    "Create an instance of the class CalibrationModel by passing in the path to both your calibration data and your sample data. Next specify the name of your response variable and the nummber of test replicates you measured."
   ]
  },
  {
   "cell_type": "code",
   "execution_count": 55,
   "metadata": {},
   "outputs": [],
   "source": [
    "#| export\n",
    "class CalibrationModel:\n",
    "\n",
    "    def __init__(self, x, y, test_replicates):\n",
    "      \n",
    "        self.x = x\n",
    "        self.y = y\n",
    "        self.slope = None\n",
    "        self.intercept = None\n",
    "        self.r_squared = None\n",
    "        self.std_err = None\n",
    "        self.test_replicates = test_replicates\n",
    "        self.cal_line_points = self.x.shape[0]\n",
    "        self.df_resid = self.cal_line_points - 2\n",
    "        self.sr = None\n",
    "        self.mean_replicate_observations = None\n",
    "        self.average_response_cal_line = None\n",
    "\n",
    "    def fit_ols(self):\n",
    "\n",
    "        self.slope, self.intercept, self.r_squared, self.std_err, _ = sp.stats.linregress(self.x, self.y)\n",
    "    \n",
    "    def calculate_fitted_values(self):\n",
    "        \n",
    "        self.fitted_values = self.slope * self.x + self.intercept\n",
    "\n",
    "    \n",
    "    def calculate_sse(self):\n",
    "        self.calculate_fitted_values()\n",
    "        return np.sum((self.fitted_values - self.y) **2)\n",
    "    \n",
    "    def calculate_syx(self):\n",
    "        return np.sqrt((self.calculate_sse())/(len(self.x)-2))\n",
    "\n",
    "    def get_t_value(self,alpha):\n",
    "        return sp.stats.t.ppf(1 - alpha/2, self.df_resid)\n",
    "\n",
    "    def calculate_uncertainty(self):\n",
    "        return self.calculate_sxhat() * self.get_t_value(0.05)\n",
    "    \n",
    "\n",
    "    \n",
    "    def calculate_hibbert_uncertainty(self, sr, test_repeats, y0, average_response_cal_line, sumsquares):\n",
    "        return (1/self.slope) * np.sqrt(((sr**2)/test_repeats) + ((self.calculate_syx()**2)/self.cal_line_points) + \n",
    "                                                                   (((self.calculate_syx()**2)*((y0-average_response_cal_line)**2))/((self.slope**2)*(sumsquares))))\n",
    "\n",
    "    \n",
    "    def calculate_sxhat(self):\n",
    "        return (self.calculate_syx() / self.slope) * np.sqrt( 1/ self.test_replicates + 1 / self.cal_line_points) \n",
    "    \n",
    "    def fit_model(self):\n",
    "        self.fit_ols()\n",
    "        self.calculate_uncertainty()\n",
    "        self.tabulate_results()\n",
    "\n",
    "    def inverse_prediction(self, unknown):\n",
    "\n",
    "        if len(unknown) > 1:\n",
    "            y0 = np.mean(unknown)\n",
    "            sr = np.std(unknown)\n",
    "            test_repeats = len(unknown)\n",
    "            average_response_cal_line = np.mean(self.y)\n",
    "            sumsquares = np.sum((self.x - self.x.mean())**2)\n",
    "\n",
    "            pred =  (y0 - self.intercept)/self.slope\n",
    "        \n",
    "            return f\"{pred} ± {self.calculate_hibbert_uncertainty(sr=sr, y0=y0, test_repeats=test_repeats, average_response_cal_line=average_response_cal_line, sumsquares=sumsquares) * self.get_t_value(0.05)}\"\n",
    "        else:\n",
    "            y = unknown[0]\n",
    "            pred = (y - self.intercept)/self.slope\n",
    "            return f\"{pred} ± {self.calculate_uncertainty()}\"\n",
    "\n",
    "    def tabulate_results(self):\n",
    "        print(f\"Calibration curve\")\n",
    "        print(f\"R2 = {self.r_squared}\")\n",
    "        print(f\"Slope = {self.slope}\")\n",
    "        print(f\"Intercept = {self.intercept}\")\n",
    "        print(f\"Uncertainity = {self.calculate_uncertainty()}\")\n",
    "        # print(f\"Prediction = {self.inverse_prediction()}\")"
   ]
  },
  {
   "attachments": {},
   "cell_type": "markdown",
   "metadata": {},
   "source": [
    "## Tests"
   ]
  },
  {
   "cell_type": "code",
   "execution_count": 56,
   "metadata": {},
   "outputs": [],
   "source": [
    "\n",
    "def generate_test_data(slope, intercept):\n",
    "        x = np.linspace(1, 10, num=5)\n",
    "        y = intercept + x * slope\n",
    "        df = pd.DataFrame({'concentration': x, \"abs\": y})\n",
    "        return df\n",
    "def generate_sample_data():\n",
    "    x = np.array(['unknown1', 'unknown2'])\n",
    "    y = np.array([13.75, 20.50])\n",
    "    df = pd.DataFrame({'sample': x, \"abs\": y})\n",
    "    df = df.set_index('sample')\n",
    "    return df\n",
    "\n",
    "\n",
    "# test_data = generate_test_data(3, 4)\n",
    "# sample_data = generate_sample_data()\n",
    "\n",
    "test_data = pd.DataFrame({'concentration': [0.2, 0.05, 0.1, 0.8, 0.6, 0.4], \"abs\": [0.221, 0.057, 0.119, 0.73, 0.599, 0.383]})\n",
    "sample_data = pd.DataFrame({'unknown': [0.490, 0.471, 0.484, 0.473, 0.479, 0.492]})"
   ]
  },
  {
   "cell_type": "code",
   "execution_count": 57,
   "metadata": {},
   "outputs": [
    {
     "name": "stdout",
     "output_type": "stream",
     "text": [
      "0.036768287028466705\n"
     ]
    },
    {
     "data": {
      "text/plain": [
       "'0.5020733029033536 ± 0.031053583676141718'"
      ]
     },
     "execution_count": 57,
     "metadata": {},
     "output_type": "execute_result"
    }
   ],
   "source": [
    "\n",
    "cal = CalibrationModel(x=test_data['concentration'], y=test_data['abs'], test_replicates=6)\n",
    "cal.fit_ols()\n",
    "print(cal.calculate_uncertainty())\n",
    "cal.inverse_prediction(sample_data['unknown'])\n",
    "# print(cal.slope)\n",
    "# print(cal.intercept)\n",
    "# print(cal.r_squared)\n",
    "# print(cal.calculate_syx())"
   ]
  },
  {
   "cell_type": "code",
   "execution_count": 58,
   "metadata": {},
   "outputs": [
    {
     "name": "stdout",
     "output_type": "stream",
     "text": [
      "Calibration curve\n",
      "R2 = 0.9976282521058687\n",
      "Slope = 0.9044109330819979\n",
      "Intercept = 0.027419415645617395\n",
      "Uncertainity = 0.036768287028466705\n"
     ]
    }
   ],
   "source": [
    "cal.fit_model()"
   ]
  },
  {
   "cell_type": "code",
   "execution_count": 59,
   "metadata": {},
   "outputs": [
    {
     "data": {
      "text/plain": [
       "'0.5020733029033536 ± 0.031053583676141718'"
      ]
     },
     "execution_count": 59,
     "metadata": {},
     "output_type": "execute_result"
    }
   ],
   "source": [
    "cal.inverse_prediction(sample_data['unknown'])"
   ]
  },
  {
   "cell_type": "code",
   "execution_count": 60,
   "metadata": {},
   "outputs": [
    {
     "name": "stdout",
     "output_type": "stream",
     "text": [
      "Calibration curve\n",
      "R2 = 0.9976282521058687\n",
      "Slope = 0.9044109330819979\n",
      "Intercept = 0.027419415645617395\n",
      "Uncertainity = 0.036768287028466705\n"
     ]
    }
   ],
   "source": [
    "cal.tabulate_results()"
   ]
  },
  {
   "cell_type": "code",
   "execution_count": 61,
   "metadata": {},
   "outputs": [],
   "source": [
    "#| hide\n",
    "import nbdev; nbdev.nbdev_export()"
   ]
  }
 ],
 "metadata": {
  "kernelspec": {
   "display_name": "python3",
   "language": "python",
   "name": "python3"
  },
  "language_info": {
   "codemirror_mode": {
    "name": "ipython",
    "version": 3
   },
   "file_extension": ".py",
   "mimetype": "text/x-python",
   "name": "python",
   "nbconvert_exporter": "python",
   "pygments_lexer": "ipython3",
   "version": "3.11.3"
  }
 },
 "nbformat": 4,
 "nbformat_minor": 4
}
