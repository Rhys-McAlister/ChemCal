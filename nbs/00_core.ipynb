{
 "cells": [
  {
   "attachments": {},
   "cell_type": "markdown",
   "metadata": {},
   "source": [
    "# core\n",
    "\n",
    "> Fill in a module description here"
   ]
  },
  {
   "cell_type": "code",
   "execution_count": null,
   "metadata": {},
   "outputs": [],
   "source": [
    "#| default_exp core"
   ]
  },
  {
   "cell_type": "code",
   "execution_count": null,
   "metadata": {},
   "outputs": [],
   "source": [
    "#| hide\n",
    "from nbdev.showdoc import *\n",
    "from fastcore.test import *"
   ]
  },
  {
   "cell_type": "code",
   "execution_count": null,
   "metadata": {},
   "outputs": [],
   "source": [
    "#| export\n",
    "import pandas as pd\n",
    "import scipy as sp\n",
    "import matplotlib.pyplot as plt\n",
    "import numpy as np\n",
    "import seaborn as sns\n",
    "from dataclasses import dataclass\n",
    "import typing"
   ]
  },
  {
   "cell_type": "code",
   "execution_count": null,
   "metadata": {},
   "outputs": [],
   "source": [
    "#| hide\n",
    "sns.set_style(\"white\")\n",
    "sns.set_style(\"ticks\")"
   ]
  },
  {
   "attachments": {},
   "cell_type": "markdown",
   "metadata": {},
   "source": [
    "Create an instance of the class CalibrationModel by passing in the path to both your calibration data and your sample data. Next specify the name of your response variable and the nummber of test replicates you measured."
   ]
  },
  {
   "cell_type": "code",
   "execution_count": null,
   "metadata": {},
   "outputs": [],
   "source": [
    "#| export\n",
    "class CalibrationModel:\n",
    "    \"\"\" A class used to create a calibration curve for a given set of data.\n",
    "\n",
    "    ...\n",
    "\n",
    "    Attributes\n",
    "    ----------\n",
    "    x: pd.DataFrame\n",
    "        A vector of data corresponding to the predictor of your calibration data e.g the concentration of standard solutions.\n",
    "\n",
    "    y: pd.DataFrame\n",
    "        A vector of data corresponding to the response variable of your calibration data.\n",
    "\n",
    "    Methods\n",
    "    -------\n",
    "\n",
    "    fitmodel()\n",
    "        Fits an ordinary least squares model to the data provided via the x, and y attributes of the class. Reports\n",
    "        statistics of the fit additionally.\n",
    "\n",
    "    inverse_prediction()\n",
    "        Provides a prediction of the predictor variable corresponding to the value of the response variable provided\n",
    "        e.g the concentration of a analyte solution is predicted based upon the response variable provided.\n",
    "\n",
    "    linest_stats()\n",
    "        Reports statistics one might expect to derive from performing a linest analysis using excel or sheets.\n",
    "\n",
    "    calplot(xlab, ylab)\n",
    "        Plots the fitted calibration curve with the regression formula and the r-squared value printed on the figure.\n",
    "\n",
    "    \"\"\"\n",
    "\n",
    "    def __init__(self, x, y):\n",
    "      \n",
    "        self.x = x\n",
    "        self.y = y\n",
    "        self.slope = None\n",
    "        self.intercept = None\n",
    "        self.r_squared = None\n",
    "        self.std_err = None\n",
    "        self.test_replicates = None\n",
    "        self.cal_line_points = self.x.shape[0]\n",
    "        self.df_resid = self.cal_line_points - 2\n",
    "        self.sr = None\n",
    "        self.mean_replicate_observations = None\n",
    "        self.average_response_cal_line = None\n",
    "        self.fitted_values = None\n",
    "\n",
    "    def fit_ols(self):\n",
    "        self.slope, self.intercept, self.r_squared, self.std_err, _ = sp.stats.linregress(self.x, self.y)\n",
    "    \n",
    "    def calculate_fitted_values(self):\n",
    "        self.fitted_values = self.slope * self.x + self.intercept\n",
    "\n",
    "    def calculate_sse(self):\n",
    "        self.calculate_fitted_values()\n",
    "        return np.sum((self.fitted_values - self.y) **2)\n",
    "    \n",
    "    def calculate_syx(self):\n",
    "        return np.sqrt((self.calculate_sse())/(len(self.x)-2))\n",
    "\n",
    "    def get_t_value(self,alpha):\n",
    "        return sp.stats.t.ppf(1 - alpha/2, self.df_resid)\n",
    "\n",
    "    def calculate_uncertainty(self):\n",
    "        return self.calculate_sxhat() * self.get_t_value(0.05)\n",
    "        \n",
    "    def calculate_hibbert_uncertainty(self, sr, test_repeats, y0, average_response_cal_line, sumsquares):\n",
    "        return (1/self.slope) * np.sqrt(((sr**2)/test_repeats) + ((self.calculate_syx()**2)/self.cal_line_points) + \n",
    "                                                                   (((self.calculate_syx()**2)*((y0-average_response_cal_line)**2))/((self.slope**2)*(sumsquares))))\n",
    "    \n",
    "    def calculate_sxhat(self):\n",
    "        return (self.calculate_syx() / self.slope) * np.sqrt(1 / self.test_replicates + 1 / self.cal_line_points) \n",
    "    \n",
    "    def fit_model(self):\n",
    "        # self.test_replicates = test_replicates\n",
    "        self.fit_ols()\n",
    "        # self.calculate_uncertainty()\n",
    "        self.tabulate_results()\n",
    "\n",
    "    def inverse_prediction(self, unknown):\n",
    "\n",
    "        if len(unknown) > 1:\n",
    "            y0 = np.mean(unknown)\n",
    "            sr = np.std(unknown)\n",
    "            test_repeats = len(unknown)\n",
    "            average_response_cal_line = np.mean(self.y)\n",
    "            sumsquares = np.sum((self.x - self.x.mean())**2)\n",
    "\n",
    "            pred =  (y0 - self.intercept)/self.slope\n",
    "        \n",
    "            return f\"{pred} ± {self.calculate_hibbert_uncertainty(sr=sr, y0=y0, test_repeats=test_repeats, average_response_cal_line=average_response_cal_line, sumsquares=sumsquares) * self.get_t_value(0.05)}\"\n",
    "        else:\n",
    "            y = unknown[0]\n",
    "            pred = (y - self.intercept)/self.slope\n",
    "            return f\"{pred} ± {self.calculate_uncertainty()}\"\n",
    "\n",
    "    def tabulate_results(self):\n",
    "        print(f\"Calibration curve\")\n",
    "        print(f\"R2 = {self.r_squared}\")\n",
    "        print(f\"Slope = {self.slope}\")\n",
    "        print(f\"Intercept = {self.intercept}\")\n",
    "        # print(f\"Uncertainity = {self.calculate_uncertainty()}\")\n",
    "        # print(f\"Prediction = {self.inverse_prediction()}\")\n",
    "\n",
    "    def linest_stats(self):\n",
    "        \"\"\"\n",
    "        This method calculates and produces the stats you might expect to derive from a LINEST analysis\n",
    "        performed using excel or sheets.\n",
    "        \"\"\"\n",
    "\n",
    "        self.calculate_fitted_values()\n",
    "\n",
    "        df = self.cal_line_points - 2\n",
    "       \n",
    "        regression_ss = np.sum((self.fitted_values - self.y.mean())**2)\n",
    "\n",
    "        residual_ss = np.sum((self.y - self.fitted_values)**2)\n",
    "\n",
    "        uncertainty_in_slope = np.sqrt(residual_ss/(df*np.sum((self.x - self.x.mean())**2)))\n",
    "\n",
    "        uncertainty_in_intercept = uncertainty_in_slope * np.sqrt(np.sum(self.x**2)/df)\n",
    "        \n",
    "        std_error_of_regression = np.sqrt(residual_ss/df)\n",
    "    \n",
    "        F = regression_ss/(std_error_of_regression**2)\n",
    "\n",
    "        # tabulate statistics in a pandas dataframe\n",
    "        stats = pd.DataFrame({\"Slope\": self.slope,\n",
    "                                \"Intercept\": self.intercept,\n",
    "                                \"Uncertainty in slope\": uncertainty_in_slope,\n",
    "                                \"Uncertainty in intercept\": uncertainty_in_intercept,\n",
    "                                \"Standard error of regression\": std_error_of_regression,\n",
    "                                \"F-statistic\": F,\n",
    "                                \"Degrees of freedom\": df,\n",
    "                                \"Regression sum of squares\": regression_ss,\n",
    "                                \"Residual sum of squares\": residual_ss}, index=[0])\n",
    "        return stats\n",
    "\n",
    "\n",
    "\n",
    "    def calplot(self, xlab, ylab):\n",
    "\n",
    "        \"\"\"\n",
    "        Plots the fitted calibration curve with the regression formula and the r-squared value printed on the figure.\n",
    "\n",
    "        Parameters\n",
    "        ----------\n",
    "        xlab: str\n",
    "            Label for the x-axis.\n",
    "\n",
    "        ylab: str\n",
    "            Label for the y-axis.\n",
    "        \"\"\"\n",
    "\n",
    "        fig, ax = plt.subplots()\n",
    "        sns.regplot(x=self.x, y=self.y, ci=None)\n",
    "        ax.set_title(\"Calibration curve\")\n",
    "        ax.set_xlabel(xlab)\n",
    "        ax.set_ylabel(ylab)\n",
    "        ax.spines['top'].set_visible(False)\n",
    "        ax.spines['right'].set_visible(False)\n",
    "        ax.annotate(f\"y = {self.slope: 3f}x + {self.intercept: 3f}\", xy=(0.1, 0.9), xycoords=\"axes fraction\")\n",
    "        ax.annotate(f\"R-squared = {self.r_squared: 3f}\", xy=(0.1, 0.8), xycoords=\"axes fraction\")\n",
    "        \n",
    "        plt.show()"
   ]
  },
  {
   "attachments": {},
   "cell_type": "markdown",
   "metadata": {},
   "source": [
    "## Tests"
   ]
  },
  {
   "cell_type": "code",
   "execution_count": null,
   "metadata": {},
   "outputs": [],
   "source": [
    "def generate_test_data(slope, intercept):\n",
    "        x = np.linspace(1, 10, num=5)\n",
    "        y = intercept + x * slope\n",
    "        df = pd.DataFrame({'concentration': x, \"abs\": y})\n",
    "        return df\n",
    "def generate_sample_data():\n",
    "    x = np.array(['unknown1', 'unknown2'])\n",
    "    y = np.array([13.75, 20.50])\n",
    "    df = pd.DataFrame({'sample': x, \"abs\": y})\n",
    "    df = df.set_index('sample')\n",
    "    return df\n",
    "\n",
    "\n",
    "# test_data = generate_test_data(3, 4)\n",
    "# sample_data = generate_sample_data()\n",
    "\n",
    "test_data = pd.DataFrame({'concentration': [0.2, 0.05, 0.1, 0.8, 0.6, 0.4], \"abs\": [0.221, 0.057, 0.119, 0.73, 0.599, 0.383]})\n",
    "sample_data = pd.DataFrame({'unknown': [0.490, 0.471, 0.484, 0.473, 0.479, 0.492]})"
   ]
  },
  {
   "attachments": {},
   "cell_type": "markdown",
   "metadata": {},
   "source": [
    "Create a calibration model object by passing in the predictor and response data for your calibration curve."
   ]
  },
  {
   "cell_type": "code",
   "execution_count": null,
   "metadata": {},
   "outputs": [],
   "source": [
    "cal = CalibrationModel(x=test_data['concentration'], y=test_data['abs'])"
   ]
  },
  {
   "attachments": {},
   "cell_type": "markdown",
   "metadata": {},
   "source": [
    "Call the fit_model method and the parameters of the fit will be printed to the screen."
   ]
  },
  {
   "cell_type": "code",
   "execution_count": null,
   "metadata": {},
   "outputs": [
    {
     "name": "stdout",
     "output_type": "stream",
     "text": [
      "Calibration curve\n",
      "R2 = 0.9976282521058687\n",
      "Slope = 0.9044109330819979\n",
      "Intercept = 0.027419415645617395\n"
     ]
    }
   ],
   "source": [
    "cal.fit_model()"
   ]
  },
  {
   "attachments": {},
   "cell_type": "markdown",
   "metadata": {},
   "source": [
    "The individual parameters can be accessed by selecting the parameter name with dot notation. For example, to access the slope of the calibration curve, use the following code:\n",
    "\n",
    "```python\n",
    "cal.slope\n",
    "```"
   ]
  },
  {
   "cell_type": "code",
   "execution_count": null,
   "metadata": {},
   "outputs": [
    {
     "name": "stdout",
     "output_type": "stream",
     "text": [
      "Slope: 0.9044109330819979\n"
     ]
    }
   ],
   "source": [
    "print(f\"Slope: {cal.slope}\")"
   ]
  },
  {
   "attachments": {},
   "cell_type": "markdown",
   "metadata": {},
   "source": [
    "Calling the method `.linest_stats()` will produce a pandas dataframe of the same statistical output you might expect when performing a linest analysis using excel or sheets."
   ]
  },
  {
   "cell_type": "code",
   "execution_count": null,
   "metadata": {},
   "outputs": [
    {
     "data": {
      "text/html": [
       "<div>\n",
       "<style scoped>\n",
       "    .dataframe tbody tr th:only-of-type {\n",
       "        vertical-align: middle;\n",
       "    }\n",
       "\n",
       "    .dataframe tbody tr th {\n",
       "        vertical-align: top;\n",
       "    }\n",
       "\n",
       "    .dataframe thead th {\n",
       "        text-align: right;\n",
       "    }\n",
       "</style>\n",
       "<table border=\"1\" class=\"dataframe\">\n",
       "  <thead>\n",
       "    <tr style=\"text-align: right;\">\n",
       "      <th></th>\n",
       "      <th>Slope</th>\n",
       "      <th>Intercept</th>\n",
       "      <th>Uncertainty in slope</th>\n",
       "      <th>Uncertainty in intercept</th>\n",
       "      <th>Standard error of regression</th>\n",
       "      <th>F-statistic</th>\n",
       "      <th>Degrees of freedom</th>\n",
       "      <th>Regression sum of squares</th>\n",
       "      <th>Residual sum of squares</th>\n",
       "    </tr>\n",
       "  </thead>\n",
       "  <tbody>\n",
       "    <tr>\n",
       "      <th>0</th>\n",
       "      <td>0.904411</td>\n",
       "      <td>0.027419</td>\n",
       "      <td>0.0312</td>\n",
       "      <td>0.017178</td>\n",
       "      <td>0.020745</td>\n",
       "      <td>840.261133</td>\n",
       "      <td>4</td>\n",
       "      <td>0.361606</td>\n",
       "      <td>0.001721</td>\n",
       "    </tr>\n",
       "  </tbody>\n",
       "</table>\n",
       "</div>"
      ],
      "text/plain": [
       "      Slope  Intercept  Uncertainty in slope  Uncertainty in intercept  \\\n",
       "0  0.904411   0.027419                0.0312                  0.017178   \n",
       "\n",
       "   Standard error of regression  F-statistic  Degrees of freedom  \\\n",
       "0                      0.020745   840.261133                   4   \n",
       "\n",
       "   Regression sum of squares  Residual sum of squares  \n",
       "0                   0.361606                 0.001721  "
      ]
     },
     "execution_count": null,
     "metadata": {},
     "output_type": "execute_result"
    }
   ],
   "source": [
    "cal.linest_stats()\n",
    "\n"
   ]
  },
  {
   "attachments": {},
   "cell_type": "markdown",
   "metadata": {},
   "source": [
    "Inverse predictions can be called via the `.inverse_prediction` method. Call the method and pass a list of values you would like to predict. Note, even if you only have a single sample still pass the sample in a list."
   ]
  },
  {
   "cell_type": "code",
   "execution_count": null,
   "metadata": {},
   "outputs": [
    {
     "data": {
      "text/plain": [
       "'0.5020733029033536 ± 0.031053583676141718'"
      ]
     },
     "execution_count": null,
     "metadata": {},
     "output_type": "execute_result"
    }
   ],
   "source": [
    "cal.inverse_prediction(sample_data['unknown'])"
   ]
  },
  {
   "attachments": {},
   "cell_type": "markdown",
   "metadata": {},
   "source": [
    "The `.calplot` method will plot the calibration curve."
   ]
  },
  {
   "cell_type": "code",
   "execution_count": null,
   "metadata": {},
   "outputs": [
    {
     "data": {
      "image/png": "[encoded data removed]",
      "text/plain": [
       "<Figure size 640x480 with 1 Axes>"
      ]
     },
     "metadata": {},
     "output_type": "display_data"
    }
   ],
   "source": [
    "cal.calplot(xlab='predictor', ylab='response')"
   ]
  },
  {
   "cell_type": "code",
   "execution_count": null,
   "metadata": {},
   "outputs": [],
   "source": [
    "#| hide\n",
    "import nbdev; nbdev.nbdev_export()"
   ]
  }
 ],
 "metadata": {
  "kernelspec": {
   "display_name": "python3",
   "language": "python",
   "name": "python3"
  }
 },
 "nbformat": 4,
 "nbformat_minor": 4
}
